{
 "cells": [
  {
   "cell_type": "code",
   "execution_count": null,
   "metadata": {},
   "outputs": [],
   "source": []
  },
  {
   "cell_type": "code",
   "execution_count": 1,
   "metadata": {
    "ExecuteTime": {
     "end_time": "2020-06-18T09:00:23.033426Z",
     "start_time": "2020-06-18T09:00:22.995Z"
    }
   },
   "outputs": [
    {
     "data": {
      "text/html": [
       "'C:/Users/sirzh/Desktop/R实现/00quanzhouqi/00quanzhouqi'"
      ],
      "text/latex": [
       "'C:/Users/sirzh/Desktop/R实现/00quanzhouqi/00quanzhouqi'"
      ],
      "text/markdown": [
       "'C:/Users/sirzh/Desktop/R实现/00quanzhouqi/00quanzhouqi'"
      ],
      "text/plain": [
       "[1] \"C:/Users/sirzh/Desktop/R实现/00quanzhouqi/00quanzhouqi\""
      ]
     },
     "metadata": {},
     "output_type": "display_data"
    }
   ],
   "source": [
    "setwd(\"C:/Users/sirzh/Desktop/R实现/00quanzhouqi/00quanzhouqi\")\n",
    "getwd()"
   ]
  },
  {
   "cell_type": "code",
   "execution_count": 3,
   "metadata": {
    "ExecuteTime": {
     "end_time": "2020-06-18T09:03:28.283041Z",
     "start_time": "2020-06-18T09:03:28.228Z"
    }
   },
   "outputs": [
    {
     "data": {
      "text/html": [
       "<table>\n",
       "<caption>A data.frame: 3 × 4</caption>\n",
       "<thead>\n",
       "\t<tr><th scope=col>X</th><th scope=col>GDP增速...</th><th scope=col>电力消费弹性系数.计算.</th><th scope=col>年.全社会用电量.亿千瓦时.</th></tr>\n",
       "\t<tr><th scope=col>&lt;chr&gt;</th><th scope=col>&lt;dbl&gt;</th><th scope=col>&lt;dbl&gt;</th><th scope=col>&lt;lgl&gt;</th></tr>\n",
       "</thead>\n",
       "<tbody>\n",
       "\t<tr><td>2018年</td><td>7.7</td><td>0.76</td><td>NA</td></tr>\n",
       "\t<tr><td>2019年</td><td>7.5</td><td>0.65</td><td>NA</td></tr>\n",
       "\t<tr><td>2020年</td><td>7.5</td><td>0.53</td><td>NA</td></tr>\n",
       "</tbody>\n",
       "</table>\n"
      ],
      "text/latex": [
       "A data.frame: 3 × 4\n",
       "\\begin{tabular}{llll}\n",
       " X & GDP增速... & 电力消费弹性系数.计算. & 年.全社会用电量.亿千瓦时.\\\\\n",
       " <chr> & <dbl> & <dbl> & <lgl>\\\\\n",
       "\\hline\n",
       "\t 2018年 & 7.7 & 0.76 & NA\\\\\n",
       "\t 2019年 & 7.5 & 0.65 & NA\\\\\n",
       "\t 2020年 & 7.5 & 0.53 & NA\\\\\n",
       "\\end{tabular}\n"
      ],
      "text/markdown": [
       "\n",
       "A data.frame: 3 × 4\n",
       "\n",
       "| X &lt;chr&gt; | GDP增速... &lt;dbl&gt; | 电力消费弹性系数.计算. &lt;dbl&gt; | 年.全社会用电量.亿千瓦时. &lt;lgl&gt; |\n",
       "|---|---|---|---|\n",
       "| 2018年 | 7.7 | 0.76 | NA |\n",
       "| 2019年 | 7.5 | 0.65 | NA |\n",
       "| 2020年 | 7.5 | 0.53 | NA |\n",
       "\n"
      ],
      "text/plain": [
       "  X      GDP增速... 电力消费弹性系数.计算. 年.全社会用电量.亿千瓦时.\n",
       "1 2018年 7.7        0.76                   NA                       \n",
       "2 2019年 7.5        0.65                   NA                       \n",
       "3 2020年 7.5        0.53                   NA                       "
      ]
     },
     "metadata": {},
     "output_type": "display_data"
    }
   ],
   "source": [
    "ele_elastic_data <- read.csv(file = 'elastic_coefficient.csv', encoding = 'gbk', stringsAsFactors = FALSE, header = TRUE)\n",
    "ele_elastic_data"
   ]
  },
  {
   "cell_type": "code",
   "execution_count": 4,
   "metadata": {
    "ExecuteTime": {
     "end_time": "2020-06-18T09:05:44.809292Z",
     "start_time": "2020-06-18T09:05:44.778Z"
    }
   },
   "outputs": [],
   "source": [
    "gdp_growth = ele_elastic_data[, 2]\n",
    "ele_elastic_coef = ele_elastic_data[, 3]"
   ]
  },
  {
   "cell_type": "markdown",
   "metadata": {},
   "source": [
    "&emsp;&emsp;根据电力消费弹性系数的计算公式：\n",
    "\n",
    "$$\n",
    "e = \\frac{E}{P}\n",
    "$$\n",
    "\n",
    "&emsp;&emsp;其中，e 为电力消费弹性系数，E 为某一时期内电力总消费量的年均增长率， P 为同一时期内国内生产总值年均增长率。\n",
    "\n",
    "&emsp;&emsp;由此，可得：\n",
    "\n",
    "$$\n",
    "E = e * p\n",
    "$$"
   ]
  },
  {
   "cell_type": "markdown",
   "metadata": {},
   "source": [
    "&emsp;&emsp;因此，只需知道前期的电力总消费量、电力总消费量和国内生产总值的增长率，便可以得到当前的电力消费总量："
   ]
  },
  {
   "cell_type": "code",
   "execution_count": 9,
   "metadata": {
    "ExecuteTime": {
     "end_time": "2020-06-18T09:25:15.437641Z",
     "start_time": "2020-06-18T09:25:15.408Z"
    }
   },
   "outputs": [],
   "source": [
    "elastic_coefficient <- function (ele_base, ele_elastic_coef, gdp_growth) {\n",
    "    ele_growth = ele_elastic_coef*gdp_growth\n",
    "    ele = rep(0, length(ele_growth))\n",
    "    for (i in 1:length(ele_growth)) {\n",
    "        if (i == 1) {\n",
    "            ele[i] = ele_base * (1 + ele_growth[i]/100)\n",
    "        }else{\n",
    "            ele[i] = ele[i-1] * (1 + ele_growth[i]/100)\n",
    "        }\n",
    "    }\n",
    "    result = list(ele_growth = ele_growth, ele = ele)\n",
    "    return(result)\n",
    "}"
   ]
  },
  {
   "cell_type": "code",
   "execution_count": 10,
   "metadata": {
    "ExecuteTime": {
     "end_time": "2020-06-18T09:25:17.125305Z",
     "start_time": "2020-06-18T09:25:17.078Z"
    }
   },
   "outputs": [
    {
     "name": "stderr",
     "output_type": "stream",
     "text": [
      "Warning message in ele[i] <- ele_base * (1 + ele_growth[i]/100):\n",
      "\"被替换的项目不是替换值长度的倍数\"\n"
     ]
    }
   ],
   "source": [
    "ele_base = 3166.17\n",
    "result = elastic_coefficient(gdp_growth, ele_elastic_coef, ele_base)"
   ]
  },
  {
   "cell_type": "code",
   "execution_count": null,
   "metadata": {},
   "outputs": [],
   "source": []
  }
 ],
 "metadata": {
  "kernelspec": {
   "display_name": "R",
   "language": "R",
   "name": "ir"
  },
  "language_info": {
   "codemirror_mode": "r",
   "file_extension": ".r",
   "mimetype": "text/x-r-source",
   "name": "R",
   "pygments_lexer": "r",
   "version": "3.6.3"
  },
  "latex_envs": {
   "LaTeX_envs_menu_present": true,
   "autoclose": false,
   "autocomplete": true,
   "bibliofile": "biblio.bib",
   "cite_by": "apalike",
   "current_citInitial": 1,
   "eqLabelWithNumbers": true,
   "eqNumInitial": 1,
   "hotkeys": {
    "equation": "Ctrl-E",
    "itemize": "Ctrl-I"
   },
   "labels_anchors": false,
   "latex_user_defs": false,
   "report_style_numbering": false,
   "user_envs_cfg": false
  },
  "toc": {
   "base_numbering": 1,
   "nav_menu": {},
   "number_sections": true,
   "sideBar": true,
   "skip_h1_title": false,
   "title_cell": "Table of Contents",
   "title_sidebar": "Contents",
   "toc_cell": false,
   "toc_position": {},
   "toc_section_display": true,
   "toc_window_display": false
  }
 },
 "nbformat": 4,
 "nbformat_minor": 4
}
