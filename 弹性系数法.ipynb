{
 "cells": [
  {
   "cell_type": "code",
   "execution_count": null,
   "metadata": {},
   "outputs": [],
   "source": []
  },
  {
   "cell_type": "code",
   "execution_count": 1,
   "metadata": {
    "ExecuteTime": {
     "end_time": "2020-06-18T12:54:07.704454Z",
     "start_time": "2020-06-18T12:54:07.541Z"
    }
   },
   "outputs": [
    {
     "data": {
      "text/html": [
       "'C:/Users/sirzh/Desktop/R实现/00quanzhouqi/00quanzhouqi'"
      ],
      "text/latex": [
       "'C:/Users/sirzh/Desktop/R实现/00quanzhouqi/00quanzhouqi'"
      ],
      "text/markdown": [
       "'C:/Users/sirzh/Desktop/R实现/00quanzhouqi/00quanzhouqi'"
      ],
      "text/plain": [
       "[1] \"C:/Users/sirzh/Desktop/R实现/00quanzhouqi/00quanzhouqi\""
      ]
     },
     "metadata": {},
     "output_type": "display_data"
    }
   ],
   "source": [
    "setwd(\"C:/Users/sirzh/Desktop/R实现/00quanzhouqi/00quanzhouqi\")\n",
    "getwd()"
   ]
  },
  {
   "cell_type": "code",
   "execution_count": 2,
   "metadata": {
    "ExecuteTime": {
     "end_time": "2020-06-18T12:54:09.634072Z",
     "start_time": "2020-06-18T12:54:09.407Z"
    }
   },
   "outputs": [
    {
     "data": {
      "text/html": [
       "<table>\n",
       "<caption>A data.frame: 3 × 4</caption>\n",
       "<thead>\n",
       "\t<tr><th scope=col>X</th><th scope=col>GDP增速...</th><th scope=col>电力消费弹性系数.计算.</th><th scope=col>年.全社会用电量.亿千瓦时.</th></tr>\n",
       "\t<tr><th scope=col>&lt;chr&gt;</th><th scope=col>&lt;dbl&gt;</th><th scope=col>&lt;dbl&gt;</th><th scope=col>&lt;lgl&gt;</th></tr>\n",
       "</thead>\n",
       "<tbody>\n",
       "\t<tr><td>2018年</td><td>7.7</td><td>0.76</td><td>NA</td></tr>\n",
       "\t<tr><td>2019年</td><td>7.5</td><td>0.65</td><td>NA</td></tr>\n",
       "\t<tr><td>2020年</td><td>7.5</td><td>0.53</td><td>NA</td></tr>\n",
       "</tbody>\n",
       "</table>\n"
      ],
      "text/latex": [
       "A data.frame: 3 × 4\n",
       "\\begin{tabular}{llll}\n",
       " X & GDP增速... & 电力消费弹性系数.计算. & 年.全社会用电量.亿千瓦时.\\\\\n",
       " <chr> & <dbl> & <dbl> & <lgl>\\\\\n",
       "\\hline\n",
       "\t 2018年 & 7.7 & 0.76 & NA\\\\\n",
       "\t 2019年 & 7.5 & 0.65 & NA\\\\\n",
       "\t 2020年 & 7.5 & 0.53 & NA\\\\\n",
       "\\end{tabular}\n"
      ],
      "text/markdown": [
       "\n",
       "A data.frame: 3 × 4\n",
       "\n",
       "| X &lt;chr&gt; | GDP增速... &lt;dbl&gt; | 电力消费弹性系数.计算. &lt;dbl&gt; | 年.全社会用电量.亿千瓦时. &lt;lgl&gt; |\n",
       "|---|---|---|---|\n",
       "| 2018年 | 7.7 | 0.76 | NA |\n",
       "| 2019年 | 7.5 | 0.65 | NA |\n",
       "| 2020年 | 7.5 | 0.53 | NA |\n",
       "\n"
      ],
      "text/plain": [
       "  X      GDP增速... 电力消费弹性系数.计算. 年.全社会用电量.亿千瓦时.\n",
       "1 2018年 7.7        0.76                   NA                       \n",
       "2 2019年 7.5        0.65                   NA                       \n",
       "3 2020年 7.5        0.53                   NA                       "
      ]
     },
     "metadata": {},
     "output_type": "display_data"
    }
   ],
   "source": [
    "ele_elastic_data <- read.csv(file = 'elastic_coefficient.csv', encoding = 'gbk', stringsAsFactors = FALSE, header = TRUE)\n",
    "ele_elastic_data"
   ]
  },
  {
   "cell_type": "code",
   "execution_count": 3,
   "metadata": {
    "ExecuteTime": {
     "end_time": "2020-06-18T12:54:13.707669Z",
     "start_time": "2020-06-18T12:54:13.614Z"
    }
   },
   "outputs": [],
   "source": [
    "gdp_growth = ele_elastic_data[, 2]\n",
    "ele_elastic_coef = ele_elastic_data[, 3]"
   ]
  },
  {
   "cell_type": "markdown",
   "metadata": {},
   "source": [
    "&emsp;&emsp;根据电力消费弹性系数的计算公式：\n",
    "\n",
    "$$\n",
    "e = \\frac{E}{P}\n",
    "$$\n",
    "\n",
    "&emsp;&emsp;其中，e 为电力消费弹性系数，E 为某一时期内电力总消费量的年均增长率， P 为同一时期内国内生产总值年均增长率。\n",
    "\n",
    "&emsp;&emsp;由此，可得：\n",
    "\n",
    "$$\n",
    "E = e * p\n",
    "$$"
   ]
  },
  {
   "cell_type": "markdown",
   "metadata": {},
   "source": [
    "&emsp;&emsp;因此，只需知道前期的电力总消费量、电力总消费量和国内生产总值的增长率，便可以得到当前的电力消费总量："
   ]
  },
  {
   "cell_type": "code",
   "execution_count": 4,
   "metadata": {
    "ExecuteTime": {
     "end_time": "2020-06-18T12:54:20.884660Z",
     "start_time": "2020-06-18T12:54:20.822Z"
    }
   },
   "outputs": [],
   "source": [
    "elastic_coefficient <- function (ele_base, ele_elastic_coef, gdp_growth) {\n",
    "    ele_growth = ele_elastic_coef*gdp_growth\n",
    "    ele = rep(0, length(ele_growth))\n",
    "    for (i in 1:length(ele_growth)) {\n",
    "        if (i == 1) {\n",
    "            ele[i] = ele_base * (1 + ele_growth[i]/100)\n",
    "        }else{\n",
    "            ele[i] = ele[i-1] * (1 + ele_growth[i]/100)\n",
    "        }\n",
    "    }\n",
    "    result = list(ele_growth = ele_growth, ele = ele)\n",
    "    return(result)\n",
    "}"
   ]
  },
  {
   "cell_type": "code",
   "execution_count": 6,
   "metadata": {
    "ExecuteTime": {
     "end_time": "2020-06-18T12:55:04.551031Z",
     "start_time": "2020-06-18T12:55:04.490Z"
    }
   },
   "outputs": [],
   "source": [
    "ele_base = 3166.17\n",
    "result = elastic_coefficient(ele_base, ele_elastic_coef, gdp_growth)"
   ]
  },
  {
   "cell_type": "code",
   "execution_count": 7,
   "metadata": {
    "ExecuteTime": {
     "end_time": "2020-06-18T12:55:29.897618Z",
     "start_time": "2020-06-18T12:55:29.806Z"
    }
   },
   "outputs": [
    {
     "data": {
      "text/html": [
       "<style>\n",
       ".list-inline {list-style: none; margin:0; padding: 0}\n",
       ".list-inline>li {display: inline-block}\n",
       ".list-inline>li:not(:last-child)::after {content: \"\\00b7\"; padding: 0 .5ex}\n",
       "</style>\n",
       "<ol class=list-inline><li>3351.4542684</li><li>3514.8376639845</li><li>3654.55246112788</li></ol>\n"
      ],
      "text/latex": [
       "\\begin{enumerate*}\n",
       "\\item 3351.4542684\n",
       "\\item 3514.8376639845\n",
       "\\item 3654.55246112788\n",
       "\\end{enumerate*}\n"
      ],
      "text/markdown": [
       "1. 3351.4542684\n",
       "2. 3514.8376639845\n",
       "3. 3654.55246112788\n",
       "\n",
       "\n"
      ],
      "text/plain": [
       "[1] 3351.454 3514.838 3654.552"
      ]
     },
     "metadata": {},
     "output_type": "display_data"
    },
    {
     "data": {
      "text/html": [
       "<style>\n",
       ".list-inline {list-style: none; margin:0; padding: 0}\n",
       ".list-inline>li {display: inline-block}\n",
       ".list-inline>li:not(:last-child)::after {content: \"\\00b7\"; padding: 0 .5ex}\n",
       "</style>\n",
       "<ol class=list-inline><li>5.852</li><li>4.875</li><li>3.975</li></ol>\n"
      ],
      "text/latex": [
       "\\begin{enumerate*}\n",
       "\\item 5.852\n",
       "\\item 4.875\n",
       "\\item 3.975\n",
       "\\end{enumerate*}\n"
      ],
      "text/markdown": [
       "1. 5.852\n",
       "2. 4.875\n",
       "3. 3.975\n",
       "\n",
       "\n"
      ],
      "text/plain": [
       "[1] 5.852 4.875 3.975"
      ]
     },
     "metadata": {},
     "output_type": "display_data"
    }
   ],
   "source": [
    "result$ele\n",
    "result$ele_growth"
   ]
  }
 ],
 "metadata": {
  "kernelspec": {
   "display_name": "R",
   "language": "R",
   "name": "ir"
  },
  "language_info": {
   "codemirror_mode": "r",
   "file_extension": ".r",
   "mimetype": "text/x-r-source",
   "name": "R",
   "pygments_lexer": "r",
   "version": "3.6.3"
  },
  "latex_envs": {
   "LaTeX_envs_menu_present": true,
   "autoclose": false,
   "autocomplete": true,
   "bibliofile": "biblio.bib",
   "cite_by": "apalike",
   "current_citInitial": 1,
   "eqLabelWithNumbers": true,
   "eqNumInitial": 1,
   "hotkeys": {
    "equation": "Ctrl-E",
    "itemize": "Ctrl-I"
   },
   "labels_anchors": false,
   "latex_user_defs": false,
   "report_style_numbering": false,
   "user_envs_cfg": false
  },
  "toc": {
   "base_numbering": 1,
   "nav_menu": {},
   "number_sections": true,
   "sideBar": true,
   "skip_h1_title": false,
   "title_cell": "Table of Contents",
   "title_sidebar": "Contents",
   "toc_cell": false,
   "toc_position": {},
   "toc_section_display": true,
   "toc_window_display": false
  }
 },
 "nbformat": 4,
 "nbformat_minor": 4
}
