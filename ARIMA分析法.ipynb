{
 "cells": [
  {
   "cell_type": "markdown",
   "metadata": {},
   "source": [
    "&emsp;&emsp;设置工作目录："
   ]
  },
  {
   "cell_type": "code",
   "execution_count": 1,
   "metadata": {
    "ExecuteTime": {
     "end_time": "2020-06-18T08:33:56.323340Z",
     "start_time": "2020-06-18T08:33:56.239Z"
    }
   },
   "outputs": [
    {
     "data": {
      "text/html": [
       "'C:/Users/sirzh/Desktop/R实现/00quanzhouqi/00quanzhouqi'"
      ],
      "text/latex": [
       "'C:/Users/sirzh/Desktop/R实现/00quanzhouqi/00quanzhouqi'"
      ],
      "text/markdown": [
       "'C:/Users/sirzh/Desktop/R实现/00quanzhouqi/00quanzhouqi'"
      ],
      "text/plain": [
       "[1] \"C:/Users/sirzh/Desktop/R实现/00quanzhouqi/00quanzhouqi\""
      ]
     },
     "metadata": {},
     "output_type": "display_data"
    }
   ],
   "source": [
    "setwd(\"C:/Users/sirzh/Desktop/R实现/00quanzhouqi/00quanzhouqi\")\n",
    "getwd()"
   ]
  },
  {
   "cell_type": "markdown",
   "metadata": {
    "ExecuteTime": {
     "end_time": "2020-06-18T08:33:58.835626Z",
     "start_time": "2020-06-18T08:33:58.798Z"
    }
   },
   "source": [
    "&emsp;&emsp;导入数据："
   ]
  },
  {
   "cell_type": "code",
   "execution_count": 2,
   "metadata": {
    "ExecuteTime": {
     "end_time": "2020-06-18T08:33:58.835626Z",
     "start_time": "2020-06-18T08:33:58.798Z"
    }
   },
   "outputs": [],
   "source": [
    "total_ele_data <- read.csv(file = 'arima_ele.csv', encoding = 'gbk', header = TRUE)"
   ]
  },
  {
   "cell_type": "markdown",
   "metadata": {},
   "source": [
    "&emsp;&emsp;提取数据，设置必要的参数值："
   ]
  },
  {
   "cell_type": "code",
   "execution_count": 3,
   "metadata": {
    "ExecuteTime": {
     "end_time": "2020-06-18T08:34:00.189007Z",
     "start_time": "2020-06-18T08:34:00.154Z"
    }
   },
   "outputs": [],
   "source": [
    "total_ele_samp = total_ele_data[, 2]\n",
    "start_year = 2000\n",
    "end_year = 2017\n",
    "forecast_years = 3 # 预测 3 年"
   ]
  },
  {
   "cell_type": "markdown",
   "metadata": {
    "ExecuteTime": {
     "end_time": "2020-06-18T08:47:38.276892Z",
     "start_time": "2020-06-18T08:47:38.237Z"
    }
   },
   "source": [
    "&emsp;&emsp;导入必要的包：forecast"
   ]
  },
  {
   "cell_type": "code",
   "execution_count": 6,
   "metadata": {
    "ExecuteTime": {
     "end_time": "2020-06-18T08:47:38.276892Z",
     "start_time": "2020-06-18T08:47:38.237Z"
    }
   },
   "outputs": [],
   "source": [
    "library(forecast)"
   ]
  },
  {
   "cell_type": "code",
   "execution_count": 7,
   "metadata": {
    "ExecuteTime": {
     "end_time": "2020-06-18T08:47:44.658783Z",
     "start_time": "2020-06-18T08:47:44.629Z"
    }
   },
   "outputs": [],
   "source": [
    "total_ele <- function (total_ele_samp, start_year, end_year, forecast_years) {\n",
    "    sample_len <- end_year - 2004\n",
    "    total_len <- length(total_ele_samp)\n",
    "    total_ele_samp = total_ele_samp[(total_len - sample_len + 1):total_len]\n",
    "    total_ele_fit <- arima(total_ele_samp, order = c(1, 2, 0)) # order 的值如何判断\n",
    "    total_ele_fore_all <- forecast(total_ele_fit, h = forecast_years, level = c(90))\n",
    "    total_ele_fore = total_ele_fore_all$mean # \n",
    "    results = list(total_ele_fore = total_ele_fore)\n",
    "    return(results)\n",
    "}"
   ]
  },
  {
   "cell_type": "code",
   "execution_count": 8,
   "metadata": {
    "ExecuteTime": {
     "end_time": "2020-06-18T08:47:49.927606Z",
     "start_time": "2020-06-18T08:47:49.886Z"
    }
   },
   "outputs": [
    {
     "data": {
      "text/html": [
       "A Time Series:<br><style>\n",
       ".list-inline {list-style: none; margin:0; padding: 0}\n",
       ".list-inline>li {display: inline-block}\n",
       ".list-inline>li:not(:last-child)::after {content: \"\\00b7\"; padding: 0 .5ex}\n",
       "</style>\n",
       "<ol class=list-inline><li>3329.69932367015</li><li>3495.92531866697</li><li>3661.61227202746</li></ol>\n"
      ],
      "text/latex": [
       "A Time Series:\\\\\\begin{enumerate*}\n",
       "\\item 3329.69932367015\n",
       "\\item 3495.92531866697\n",
       "\\item 3661.61227202746\n",
       "\\end{enumerate*}\n"
      ],
      "text/markdown": [
       "A Time Series:  \n",
       "1. 3329.69932367015\n",
       "2. 3495.92531866697\n",
       "3. 3661.61227202746\n",
       "\n",
       "\n"
      ],
      "text/plain": [
       "A Time Series:\n",
       "[1] 3329.699 3495.925 3661.612"
      ]
     },
     "metadata": {},
     "output_type": "display_data"
    }
   ],
   "source": [
    "results = total_ele(total_ele_samp, start_year, end_year, forecast_years)\n",
    "results$total_ele_fore"
   ]
  },
  {
   "cell_type": "code",
   "execution_count": null,
   "metadata": {},
   "outputs": [],
   "source": []
  }
 ],
 "metadata": {
  "kernelspec": {
   "display_name": "R",
   "language": "R",
   "name": "ir"
  },
  "language_info": {
   "codemirror_mode": "r",
   "file_extension": ".r",
   "mimetype": "text/x-r-source",
   "name": "R",
   "pygments_lexer": "r",
   "version": "3.6.3"
  },
  "latex_envs": {
   "LaTeX_envs_menu_present": true,
   "autoclose": false,
   "autocomplete": true,
   "bibliofile": "biblio.bib",
   "cite_by": "apalike",
   "current_citInitial": 1,
   "eqLabelWithNumbers": true,
   "eqNumInitial": 1,
   "hotkeys": {
    "equation": "Ctrl-E",
    "itemize": "Ctrl-I"
   },
   "labels_anchors": false,
   "latex_user_defs": false,
   "report_style_numbering": false,
   "user_envs_cfg": false
  },
  "toc": {
   "base_numbering": 1,
   "nav_menu": {},
   "number_sections": true,
   "sideBar": true,
   "skip_h1_title": false,
   "title_cell": "Table of Contents",
   "title_sidebar": "Contents",
   "toc_cell": false,
   "toc_position": {},
   "toc_section_display": true,
   "toc_window_display": false
  }
 },
 "nbformat": 4,
 "nbformat_minor": 4
}
