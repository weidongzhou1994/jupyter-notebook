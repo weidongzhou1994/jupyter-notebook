{
 "cells": [
  {
   "cell_type": "markdown",
   "metadata": {},
   "source": [
    "&emsp;&emsp;设置工作目录："
   ]
  },
  {
   "cell_type": "code",
   "execution_count": 1,
   "metadata": {
    "ExecuteTime": {
     "end_time": "2020-06-18T09:30:51.313472Z",
     "start_time": "2020-06-18T09:30:51.275Z"
    }
   },
   "outputs": [
    {
     "data": {
      "text/html": [
       "'C:/Users/sirzh/Desktop/R实现/00quanzhouqi/00quanzhouqi'"
      ],
      "text/latex": [
       "'C:/Users/sirzh/Desktop/R实现/00quanzhouqi/00quanzhouqi'"
      ],
      "text/markdown": [
       "'C:/Users/sirzh/Desktop/R实现/00quanzhouqi/00quanzhouqi'"
      ],
      "text/plain": [
       "[1] \"C:/Users/sirzh/Desktop/R实现/00quanzhouqi/00quanzhouqi\""
      ]
     },
     "metadata": {},
     "output_type": "display_data"
    }
   ],
   "source": [
    "setwd(\"C:/Users/sirzh/Desktop/R实现/00quanzhouqi/00quanzhouqi\")\n",
    "getwd()"
   ]
  },
  {
   "cell_type": "markdown",
   "metadata": {},
   "source": [
    "&emsp;&emsp;导入和查看数据："
   ]
  },
  {
   "cell_type": "code",
   "execution_count": 3,
   "metadata": {
    "ExecuteTime": {
     "end_time": "2020-06-18T09:32:45.107709Z",
     "start_time": "2020-06-18T09:32:45.036Z"
    }
   },
   "outputs": [
    {
     "data": {
      "text/html": [
       "<table>\n",
       "<caption>A data.frame: 21 × 4</caption>\n",
       "<thead>\n",
       "\t<tr><th scope=col>X</th><th scope=col>年.GDP.亿元.</th><th scope=col>地区生产总值指数.上年.100.</th><th scope=col>年.单位GDP电耗.亿千瓦时.亿元.</th></tr>\n",
       "\t<tr><th scope=col>&lt;chr&gt;</th><th scope=col>&lt;dbl&gt;</th><th scope=col>&lt;dbl&gt;</th><th scope=col>&lt;dbl&gt;</th></tr>\n",
       "</thead>\n",
       "<tbody>\n",
       "\t<tr><td>2000年</td><td> 5052.99</td><td>109.5</td><td>0.1422000</td></tr>\n",
       "\t<tr><td>2001年</td><td> 5533.01</td><td>109.0</td><td>0.1467800</td></tr>\n",
       "\t<tr><td>2002年</td><td> 6035.48</td><td>109.5</td><td>0.1519200</td></tr>\n",
       "\t<tr><td>2003年</td><td> 6867.70</td><td>110.7</td><td>0.1560600</td></tr>\n",
       "\t<tr><td>2004年</td><td> 8553.79</td><td>113.7</td><td>0.1569000</td></tr>\n",
       "\t<tr><td>2005年</td><td>10587.42</td><td>114.2</td><td>0.1560400</td></tr>\n",
       "\t<tr><td>2006年</td><td>12362.79</td><td>114.1</td><td>0.1540300</td></tr>\n",
       "\t<tr><td>2007年</td><td>15012.46</td><td>114.6</td><td>0.1595000</td></tr>\n",
       "\t<tr><td>2008年</td><td>18018.53</td><td>112.1</td><td>0.1550900</td></tr>\n",
       "\t<tr><td>2009年</td><td>19480.46</td><td>110.9</td><td>0.1477000</td></tr>\n",
       "\t<tr><td>2010年</td><td>23092.36</td><td>112.5</td><td>0.1484800</td></tr>\n",
       "\t<tr><td>2011年</td><td>26931.03</td><td>111.9</td><td>0.1499000</td></tr>\n",
       "\t<tr><td>2012年</td><td>29599.31</td><td>110.1</td><td>0.1406800</td></tr>\n",
       "\t<tr><td>2013年</td><td>32191.30</td><td>109.0</td><td>0.1361800</td></tr>\n",
       "\t<tr><td>2014年</td><td>34938.24</td><td>108.9</td><td>0.1259300</td></tr>\n",
       "\t<tr><td>2015年</td><td>37002.16</td><td>108.3</td><td>0.1146900</td></tr>\n",
       "\t<tr><td>2016年</td><td>40471.79</td><td>108.1</td><td>0.1101300</td></tr>\n",
       "\t<tr><td>2017年</td><td>44988.16</td><td>107.8</td><td>0.1082100</td></tr>\n",
       "\t<tr><td>2018年</td><td>31512.55</td><td>107.7</td><td>0.1063078</td></tr>\n",
       "\t<tr><td>2019年</td><td>33875.99</td><td>107.5</td><td>0.1051625</td></tr>\n",
       "\t<tr><td>2020年</td><td>36416.69</td><td>107.5</td><td>0.1041474</td></tr>\n",
       "</tbody>\n",
       "</table>\n"
      ],
      "text/latex": [
       "A data.frame: 21 × 4\n",
       "\\begin{tabular}{llll}\n",
       " X & 年.GDP.亿元. & 地区生产总值指数.上年.100. & 年.单位GDP电耗.亿千瓦时.亿元.\\\\\n",
       " <chr> & <dbl> & <dbl> & <dbl>\\\\\n",
       "\\hline\n",
       "\t 2000年 &  5052.99 & 109.5 & 0.1422000\\\\\n",
       "\t 2001年 &  5533.01 & 109.0 & 0.1467800\\\\\n",
       "\t 2002年 &  6035.48 & 109.5 & 0.1519200\\\\\n",
       "\t 2003年 &  6867.70 & 110.7 & 0.1560600\\\\\n",
       "\t 2004年 &  8553.79 & 113.7 & 0.1569000\\\\\n",
       "\t 2005年 & 10587.42 & 114.2 & 0.1560400\\\\\n",
       "\t 2006年 & 12362.79 & 114.1 & 0.1540300\\\\\n",
       "\t 2007年 & 15012.46 & 114.6 & 0.1595000\\\\\n",
       "\t 2008年 & 18018.53 & 112.1 & 0.1550900\\\\\n",
       "\t 2009年 & 19480.46 & 110.9 & 0.1477000\\\\\n",
       "\t 2010年 & 23092.36 & 112.5 & 0.1484800\\\\\n",
       "\t 2011年 & 26931.03 & 111.9 & 0.1499000\\\\\n",
       "\t 2012年 & 29599.31 & 110.1 & 0.1406800\\\\\n",
       "\t 2013年 & 32191.30 & 109.0 & 0.1361800\\\\\n",
       "\t 2014年 & 34938.24 & 108.9 & 0.1259300\\\\\n",
       "\t 2015年 & 37002.16 & 108.3 & 0.1146900\\\\\n",
       "\t 2016年 & 40471.79 & 108.1 & 0.1101300\\\\\n",
       "\t 2017年 & 44988.16 & 107.8 & 0.1082100\\\\\n",
       "\t 2018年 & 31512.55 & 107.7 & 0.1063078\\\\\n",
       "\t 2019年 & 33875.99 & 107.5 & 0.1051625\\\\\n",
       "\t 2020年 & 36416.69 & 107.5 & 0.1041474\\\\\n",
       "\\end{tabular}\n"
      ],
      "text/markdown": [
       "\n",
       "A data.frame: 21 × 4\n",
       "\n",
       "| X &lt;chr&gt; | 年.GDP.亿元. &lt;dbl&gt; | 地区生产总值指数.上年.100. &lt;dbl&gt; | 年.单位GDP电耗.亿千瓦时.亿元. &lt;dbl&gt; |\n",
       "|---|---|---|---|\n",
       "| 2000年 |  5052.99 | 109.5 | 0.1422000 |\n",
       "| 2001年 |  5533.01 | 109.0 | 0.1467800 |\n",
       "| 2002年 |  6035.48 | 109.5 | 0.1519200 |\n",
       "| 2003年 |  6867.70 | 110.7 | 0.1560600 |\n",
       "| 2004年 |  8553.79 | 113.7 | 0.1569000 |\n",
       "| 2005年 | 10587.42 | 114.2 | 0.1560400 |\n",
       "| 2006年 | 12362.79 | 114.1 | 0.1540300 |\n",
       "| 2007年 | 15012.46 | 114.6 | 0.1595000 |\n",
       "| 2008年 | 18018.53 | 112.1 | 0.1550900 |\n",
       "| 2009年 | 19480.46 | 110.9 | 0.1477000 |\n",
       "| 2010年 | 23092.36 | 112.5 | 0.1484800 |\n",
       "| 2011年 | 26931.03 | 111.9 | 0.1499000 |\n",
       "| 2012年 | 29599.31 | 110.1 | 0.1406800 |\n",
       "| 2013年 | 32191.30 | 109.0 | 0.1361800 |\n",
       "| 2014年 | 34938.24 | 108.9 | 0.1259300 |\n",
       "| 2015年 | 37002.16 | 108.3 | 0.1146900 |\n",
       "| 2016年 | 40471.79 | 108.1 | 0.1101300 |\n",
       "| 2017年 | 44988.16 | 107.8 | 0.1082100 |\n",
       "| 2018年 | 31512.55 | 107.7 | 0.1063078 |\n",
       "| 2019年 | 33875.99 | 107.5 | 0.1051625 |\n",
       "| 2020年 | 36416.69 | 107.5 | 0.1041474 |\n",
       "\n"
      ],
      "text/plain": [
       "   X      年.GDP.亿元. 地区生产总值指数.上年.100. 年.单位GDP电耗.亿千瓦时.亿元.\n",
       "1  2000年  5052.99     109.5                      0.1422000                    \n",
       "2  2001年  5533.01     109.0                      0.1467800                    \n",
       "3  2002年  6035.48     109.5                      0.1519200                    \n",
       "4  2003年  6867.70     110.7                      0.1560600                    \n",
       "5  2004年  8553.79     113.7                      0.1569000                    \n",
       "6  2005年 10587.42     114.2                      0.1560400                    \n",
       "7  2006年 12362.79     114.1                      0.1540300                    \n",
       "8  2007年 15012.46     114.6                      0.1595000                    \n",
       "9  2008年 18018.53     112.1                      0.1550900                    \n",
       "10 2009年 19480.46     110.9                      0.1477000                    \n",
       "11 2010年 23092.36     112.5                      0.1484800                    \n",
       "12 2011年 26931.03     111.9                      0.1499000                    \n",
       "13 2012年 29599.31     110.1                      0.1406800                    \n",
       "14 2013年 32191.30     109.0                      0.1361800                    \n",
       "15 2014年 34938.24     108.9                      0.1259300                    \n",
       "16 2015年 37002.16     108.3                      0.1146900                    \n",
       "17 2016年 40471.79     108.1                      0.1101300                    \n",
       "18 2017年 44988.16     107.8                      0.1082100                    \n",
       "19 2018年 31512.55     107.7                      0.1063078                    \n",
       "20 2019年 33875.99     107.5                      0.1051625                    \n",
       "21 2020年 36416.69     107.5                      0.1041474                    "
      ]
     },
     "metadata": {},
     "output_type": "display_data"
    }
   ],
   "source": [
    "chanzhidanhao <- read.csv(file = 'chanzhidanhao.csv', encoding = 'gbk', stringsAsFactors = FALSE, header = TRUE)\n",
    "chanzhidanhao"
   ]
  },
  {
   "cell_type": "markdown",
   "metadata": {
    "ExecuteTime": {
     "end_time": "2020-06-18T09:40:54.887070Z",
     "start_time": "2020-06-18T09:40:54.852Z"
    }
   },
   "source": [
    "&emsp;&emsp;选取数据："
   ]
  },
  {
   "cell_type": "code",
   "execution_count": 6,
   "metadata": {
    "ExecuteTime": {
     "end_time": "2020-06-18T09:40:54.887070Z",
     "start_time": "2020-06-18T09:40:54.852Z"
    }
   },
   "outputs": [],
   "source": [
    "nominal_gdp = chanzhidanhao[, 2]\n",
    "gdp_deflator = chanzhidanhao[, 3]\n",
    "out_unit_consum = chanzhidanhao[ , 4]"
   ]
  },
  {
   "cell_type": "markdown",
   "metadata": {},
   "source": [
    "&emsp;&emsp;计算"
   ]
  },
  {
   "cell_type": "code",
   "execution_count": 5,
   "metadata": {
    "ExecuteTime": {
     "end_time": "2020-06-18T09:39:03.594333Z",
     "start_time": "2020-06-18T09:39:03.554Z"
    }
   },
   "outputs": [],
   "source": [
    "deflator <- function (nominal_gdp, gdp_deflator) {\n",
    "    real_gdp = rep(1, length(nominal_gdp))\n",
    "    real_gdp[1] = nominal_gdp[1]\n",
    "    if (length(nominal_gdp) >= 2) {\n",
    "        for (i in 2:length(nominal_gdp)) {\n",
    "            real_gdp[i] = real_gdp[i-1] * gdp_deflator[i] / 100 \n",
    "        }\n",
    "    }\n",
    "    return(real_gdp)\n",
    "}\n",
    "\n",
    "real_gdp = deflator(nominal_gdp, gdp_deflator)"
   ]
  },
  {
   "cell_type": "markdown",
   "metadata": {},
   "source": [
    "&emsp;&emsp;根据产值单耗的计算公式：\n",
    "\n",
    "$$\n",
    "\\text{产值单耗} = \\frac{\\text{总用电量}}{\\text{总产值}} \n",
    "$$\n",
    "\n",
    "&emsp;&emsp;可知：\n",
    "\n",
    "$$\n",
    "\\text{总用电量} = \\text{产值单耗} * \\text{总产值}   \n",
    "$$"
   ]
  },
  {
   "cell_type": "code",
   "execution_count": 7,
   "metadata": {
    "ExecuteTime": {
     "end_time": "2020-06-18T09:47:13.762682Z",
     "start_time": "2020-06-18T09:47:13.732Z"
    }
   },
   "outputs": [],
   "source": [
    "Output_unit_consum_ele <- function (real_gdp, out_unit_consum) {\n",
    "    ele = real_gdp * out_unit_consum\n",
    "    result = list(real_gdp = real_gdp, ele = ele)\n",
    "    return(result)\n",
    "}\n",
    "\n",
    "result = Output_unit_consum_ele(real_gdp, out_unit_consum)"
   ]
  },
  {
   "cell_type": "code",
   "execution_count": 8,
   "metadata": {
    "ExecuteTime": {
     "end_time": "2020-06-18T09:47:25.858728Z",
     "start_time": "2020-06-18T09:47:25.817Z"
    }
   },
   "outputs": [
    {
     "data": {
      "text/html": [
       "<style>\n",
       ".list-inline {list-style: none; margin:0; padding: 0}\n",
       ".list-inline>li {display: inline-block}\n",
       ".list-inline>li:not(:last-child)::after {content: \"\\00b7\"; padding: 0 .5ex}\n",
       "</style>\n",
       "<ol class=list-inline><li>718.535178</li><li>808.428880698</li><li>916.22894490684</li><li>1041.905377043</li><li>1191.02282653594</li><li>1352.69282674154</li><li>1523.54120759755</li><li>1807.98238468567</li><li>1970.71088773574</li><li>2081.3789664936</li><li>2353.91701125992</li><li>2659.2239158568</li><li>2747.7230296964</li><li>2899.21499275392</li><li>2919.60551370861</li><li>2879.71150278505</li><li>2989.19854088113</li><li>3166.17765994034</li><li>3350.03085507346</li><li>3562.48445094766</li><li>3792.70445376552</li></ol>\n"
      ],
      "text/latex": [
       "\\begin{enumerate*}\n",
       "\\item 718.535178\n",
       "\\item 808.428880698\n",
       "\\item 916.22894490684\n",
       "\\item 1041.905377043\n",
       "\\item 1191.02282653594\n",
       "\\item 1352.69282674154\n",
       "\\item 1523.54120759755\n",
       "\\item 1807.98238468567\n",
       "\\item 1970.71088773574\n",
       "\\item 2081.3789664936\n",
       "\\item 2353.91701125992\n",
       "\\item 2659.2239158568\n",
       "\\item 2747.7230296964\n",
       "\\item 2899.21499275392\n",
       "\\item 2919.60551370861\n",
       "\\item 2879.71150278505\n",
       "\\item 2989.19854088113\n",
       "\\item 3166.17765994034\n",
       "\\item 3350.03085507346\n",
       "\\item 3562.48445094766\n",
       "\\item 3792.70445376552\n",
       "\\end{enumerate*}\n"
      ],
      "text/markdown": [
       "1. 718.535178\n",
       "2. 808.428880698\n",
       "3. 916.22894490684\n",
       "4. 1041.905377043\n",
       "5. 1191.02282653594\n",
       "6. 1352.69282674154\n",
       "7. 1523.54120759755\n",
       "8. 1807.98238468567\n",
       "9. 1970.71088773574\n",
       "10. 2081.3789664936\n",
       "11. 2353.91701125992\n",
       "12. 2659.2239158568\n",
       "13. 2747.7230296964\n",
       "14. 2899.21499275392\n",
       "15. 2919.60551370861\n",
       "16. 2879.71150278505\n",
       "17. 2989.19854088113\n",
       "18. 3166.17765994034\n",
       "19. 3350.03085507346\n",
       "20. 3562.48445094766\n",
       "21. 3792.70445376552\n",
       "\n",
       "\n"
      ],
      "text/plain": [
       " [1]  718.5352  808.4289  916.2289 1041.9054 1191.0228 1352.6928 1523.5412\n",
       " [8] 1807.9824 1970.7109 2081.3790 2353.9170 2659.2239 2747.7230 2899.2150\n",
       "[15] 2919.6055 2879.7115 2989.1985 3166.1777 3350.0309 3562.4845 3792.7045"
      ]
     },
     "metadata": {},
     "output_type": "display_data"
    },
    {
     "data": {
      "text/html": [
       "<style>\n",
       ".list-inline {list-style: none; margin:0; padding: 0}\n",
       ".list-inline>li {display: inline-block}\n",
       ".list-inline>li:not(:last-child)::after {content: \"\\00b7\"; padding: 0 .5ex}\n",
       "</style>\n",
       "<ol class=list-inline><li>5052.99</li><li>5507.7591</li><li>6030.9962145</li><li>6676.3128094515</li><li>7590.96766434636</li><li>8668.88507268354</li><li>9891.19786793192</li><li>11335.31275665</li><li>12706.8856002046</li><li>14091.9361306269</li><li>15853.4281469553</li><li>17739.986096443</li><li>19531.7246921837</li><li>21289.5799144802</li><li>23184.352526869</li><li>25108.6537865991</li><li>27142.4547433136</li><li>29259.5662132921</li><li>31512.5528117156</li><li>33875.9942725943</li><li>36416.6938430388</li></ol>\n"
      ],
      "text/latex": [
       "\\begin{enumerate*}\n",
       "\\item 5052.99\n",
       "\\item 5507.7591\n",
       "\\item 6030.9962145\n",
       "\\item 6676.3128094515\n",
       "\\item 7590.96766434636\n",
       "\\item 8668.88507268354\n",
       "\\item 9891.19786793192\n",
       "\\item 11335.31275665\n",
       "\\item 12706.8856002046\n",
       "\\item 14091.9361306269\n",
       "\\item 15853.4281469553\n",
       "\\item 17739.986096443\n",
       "\\item 19531.7246921837\n",
       "\\item 21289.5799144802\n",
       "\\item 23184.352526869\n",
       "\\item 25108.6537865991\n",
       "\\item 27142.4547433136\n",
       "\\item 29259.5662132921\n",
       "\\item 31512.5528117156\n",
       "\\item 33875.9942725943\n",
       "\\item 36416.6938430388\n",
       "\\end{enumerate*}\n"
      ],
      "text/markdown": [
       "1. 5052.99\n",
       "2. 5507.7591\n",
       "3. 6030.9962145\n",
       "4. 6676.3128094515\n",
       "5. 7590.96766434636\n",
       "6. 8668.88507268354\n",
       "7. 9891.19786793192\n",
       "8. 11335.31275665\n",
       "9. 12706.8856002046\n",
       "10. 14091.9361306269\n",
       "11. 15853.4281469553\n",
       "12. 17739.986096443\n",
       "13. 19531.7246921837\n",
       "14. 21289.5799144802\n",
       "15. 23184.352526869\n",
       "16. 25108.6537865991\n",
       "17. 27142.4547433136\n",
       "18. 29259.5662132921\n",
       "19. 31512.5528117156\n",
       "20. 33875.9942725943\n",
       "21. 36416.6938430388\n",
       "\n",
       "\n"
      ],
      "text/plain": [
       " [1]  5052.990  5507.759  6030.996  6676.313  7590.968  8668.885  9891.198\n",
       " [8] 11335.313 12706.886 14091.936 15853.428 17739.986 19531.725 21289.580\n",
       "[15] 23184.353 25108.654 27142.455 29259.566 31512.553 33875.994 36416.694"
      ]
     },
     "metadata": {},
     "output_type": "display_data"
    }
   ],
   "source": [
    "result$ele \n",
    "result$real_gdp"
   ]
  },
  {
   "cell_type": "code",
   "execution_count": null,
   "metadata": {},
   "outputs": [],
   "source": []
  }
 ],
 "metadata": {
  "kernelspec": {
   "display_name": "R",
   "language": "R",
   "name": "ir"
  },
  "language_info": {
   "codemirror_mode": "r",
   "file_extension": ".r",
   "mimetype": "text/x-r-source",
   "name": "R",
   "pygments_lexer": "r",
   "version": "3.6.3"
  },
  "latex_envs": {
   "LaTeX_envs_menu_present": true,
   "autoclose": false,
   "autocomplete": true,
   "bibliofile": "biblio.bib",
   "cite_by": "apalike",
   "current_citInitial": 1,
   "eqLabelWithNumbers": true,
   "eqNumInitial": 1,
   "hotkeys": {
    "equation": "Ctrl-E",
    "itemize": "Ctrl-I"
   },
   "labels_anchors": false,
   "latex_user_defs": false,
   "report_style_numbering": false,
   "user_envs_cfg": false
  },
  "toc": {
   "base_numbering": 1,
   "nav_menu": {},
   "number_sections": true,
   "sideBar": true,
   "skip_h1_title": false,
   "title_cell": "Table of Contents",
   "title_sidebar": "Contents",
   "toc_cell": false,
   "toc_position": {},
   "toc_section_display": true,
   "toc_window_display": false
  }
 },
 "nbformat": 4,
 "nbformat_minor": 4
}
