{
 "cells": [
  {
   "cell_type": "code",
   "execution_count": 1,
   "metadata": {
    "ExecuteTime": {
     "end_time": "2020-06-19T00:44:16.330837Z",
     "start_time": "2020-06-19T00:44:16.171Z"
    }
   },
   "outputs": [
    {
     "data": {
      "text/html": [
       "'C:/Users/sirzh/Desktop/R实现/00quanzhouqi/00quanzhouqi'"
      ],
      "text/latex": [
       "'C:/Users/sirzh/Desktop/R实现/00quanzhouqi/00quanzhouqi'"
      ],
      "text/markdown": [
       "'C:/Users/sirzh/Desktop/R实现/00quanzhouqi/00quanzhouqi'"
      ],
      "text/plain": [
       "[1] \"C:/Users/sirzh/Desktop/R实现/00quanzhouqi/00quanzhouqi\""
      ]
     },
     "metadata": {},
     "output_type": "display_data"
    }
   ],
   "source": [
    "setwd('C:/Users/sirzh/Desktop/R实现/00quanzhouqi/00quanzhouqi')\n",
    "getwd()"
   ]
  },
  {
   "cell_type": "code",
   "execution_count": 2,
   "metadata": {
    "ExecuteTime": {
     "end_time": "2020-06-19T00:45:19.323608Z",
     "start_time": "2020-06-19T00:45:19.153Z"
    }
   },
   "outputs": [
    {
     "data": {
      "text/html": [
       "<table>\n",
       "<caption>A data.frame: 18 × 2</caption>\n",
       "<thead>\n",
       "\t<tr><th scope=col>X</th><th scope=col>年.全社会用电量.亿千瓦时.</th></tr>\n",
       "\t<tr><th scope=col>&lt;chr&gt;</th><th scope=col>&lt;dbl&gt;</th></tr>\n",
       "</thead>\n",
       "<tbody>\n",
       "\t<tr><td>2000年</td><td> 718.52</td></tr>\n",
       "\t<tr><td>2001年</td><td> 808.41</td></tr>\n",
       "\t<tr><td>2002年</td><td> 916.25</td></tr>\n",
       "\t<tr><td>2003年</td><td>1041.89</td></tr>\n",
       "\t<tr><td>2004年</td><td>1191.03</td></tr>\n",
       "\t<tr><td>2005年</td><td>1352.74</td></tr>\n",
       "\t<tr><td>2006年</td><td>1523.50</td></tr>\n",
       "\t<tr><td>2007年</td><td>1808.00</td></tr>\n",
       "\t<tr><td>2008年</td><td>1970.77</td></tr>\n",
       "\t<tr><td>2009年</td><td>2081.38</td></tr>\n",
       "\t<tr><td>2010年</td><td>2353.96</td></tr>\n",
       "\t<tr><td>2011年</td><td>2659.14</td></tr>\n",
       "\t<tr><td>2012年</td><td>2747.75</td></tr>\n",
       "\t<tr><td>2013年</td><td>2899.18</td></tr>\n",
       "\t<tr><td>2014年</td><td>2919.57</td></tr>\n",
       "\t<tr><td>2015年</td><td>2879.62</td></tr>\n",
       "\t<tr><td>2016年</td><td>2989.15</td></tr>\n",
       "\t<tr><td>2017年</td><td>3166.17</td></tr>\n",
       "</tbody>\n",
       "</table>\n"
      ],
      "text/latex": [
       "A data.frame: 18 × 2\n",
       "\\begin{tabular}{ll}\n",
       " X & 年.全社会用电量.亿千瓦时.\\\\\n",
       " <chr> & <dbl>\\\\\n",
       "\\hline\n",
       "\t 2000年 &  718.52\\\\\n",
       "\t 2001年 &  808.41\\\\\n",
       "\t 2002年 &  916.25\\\\\n",
       "\t 2003年 & 1041.89\\\\\n",
       "\t 2004年 & 1191.03\\\\\n",
       "\t 2005年 & 1352.74\\\\\n",
       "\t 2006年 & 1523.50\\\\\n",
       "\t 2007年 & 1808.00\\\\\n",
       "\t 2008年 & 1970.77\\\\\n",
       "\t 2009年 & 2081.38\\\\\n",
       "\t 2010年 & 2353.96\\\\\n",
       "\t 2011年 & 2659.14\\\\\n",
       "\t 2012年 & 2747.75\\\\\n",
       "\t 2013年 & 2899.18\\\\\n",
       "\t 2014年 & 2919.57\\\\\n",
       "\t 2015年 & 2879.62\\\\\n",
       "\t 2016年 & 2989.15\\\\\n",
       "\t 2017年 & 3166.17\\\\\n",
       "\\end{tabular}\n"
      ],
      "text/markdown": [
       "\n",
       "A data.frame: 18 × 2\n",
       "\n",
       "| X &lt;chr&gt; | 年.全社会用电量.亿千瓦时. &lt;dbl&gt; |\n",
       "|---|---|\n",
       "| 2000年 |  718.52 |\n",
       "| 2001年 |  808.41 |\n",
       "| 2002年 |  916.25 |\n",
       "| 2003年 | 1041.89 |\n",
       "| 2004年 | 1191.03 |\n",
       "| 2005年 | 1352.74 |\n",
       "| 2006年 | 1523.50 |\n",
       "| 2007年 | 1808.00 |\n",
       "| 2008年 | 1970.77 |\n",
       "| 2009年 | 2081.38 |\n",
       "| 2010年 | 2353.96 |\n",
       "| 2011年 | 2659.14 |\n",
       "| 2012年 | 2747.75 |\n",
       "| 2013年 | 2899.18 |\n",
       "| 2014年 | 2919.57 |\n",
       "| 2015年 | 2879.62 |\n",
       "| 2016年 | 2989.15 |\n",
       "| 2017年 | 3166.17 |\n",
       "\n"
      ],
      "text/plain": [
       "   X      年.全社会用电量.亿千瓦时.\n",
       "1  2000年  718.52                  \n",
       "2  2001年  808.41                  \n",
       "3  2002年  916.25                  \n",
       "4  2003年 1041.89                  \n",
       "5  2004年 1191.03                  \n",
       "6  2005年 1352.74                  \n",
       "7  2006年 1523.50                  \n",
       "8  2007年 1808.00                  \n",
       "9  2008年 1970.77                  \n",
       "10 2009年 2081.38                  \n",
       "11 2010年 2353.96                  \n",
       "12 2011年 2659.14                  \n",
       "13 2012年 2747.75                  \n",
       "14 2013年 2899.18                  \n",
       "15 2014年 2919.57                  \n",
       "16 2015年 2879.62                  \n",
       "17 2016年 2989.15                  \n",
       "18 2017年 3166.17                  "
      ]
     },
     "metadata": {},
     "output_type": "display_data"
    }
   ],
   "source": [
    "ts_ele_data <- read.csv(file = 'ts_ele.csv', encoding = 'gbk', header = TRUE, stringsAsFactors = FALSE)\n",
    "ts_ele_data"
   ]
  },
  {
   "cell_type": "code",
   "execution_count": 3,
   "metadata": {
    "ExecuteTime": {
     "end_time": "2020-06-19T00:46:31.377037Z",
     "start_time": "2020-06-19T00:46:31.261Z"
    }
   },
   "outputs": [],
   "source": [
    "total_ele_samp <- ts_ele_data[, 2]\n",
    "start_year = 2000\n",
    "end_year = 2017\n",
    "forecast_years = 3"
   ]
  },
  {
   "cell_type": "code",
   "execution_count": 13,
   "metadata": {
    "ExecuteTime": {
     "end_time": "2020-06-19T01:01:33.305792Z",
     "start_time": "2020-06-19T01:01:33.236Z"
    }
   },
   "outputs": [],
   "source": [
    "ts_ele <- function (total_ele_samp, start_year, end_year, forecast_years) {\n",
    "    samp_length <- end_year - 2004\n",
    "    dt_samp <- seq(1, samp_length)\n",
    "    total_ele_samp <- total_ele_samp[(length(total_ele_samp) - samp_length + 1):length(total_ele_samp)]\n",
    "    ts_fit <- lm(total_ele_samp ~ 1 + dt_samp)\n",
    "    dt_fore <- list(dt_samp = seq(samp_length + 1, samp_length + forecast_years))\n",
    "    total_ele_fore <- predict.lm(ts_fit, newdata = dt_fore, interval = \"prediction\") \n",
    "    return(total_ele_fore[, 1])\n",
    "}"
   ]
  },
  {
   "cell_type": "markdown",
   "metadata": {},
   "source": [
    "&emsp;&emsp;predict() 函数的参数 interval 有三个选项：none、prediction 和 confidence，其中 prediction 表示预测实际值，confidence 表示预测期望值。 "
   ]
  },
  {
   "cell_type": "code",
   "execution_count": 14,
   "metadata": {
    "ExecuteTime": {
     "end_time": "2020-06-19T01:01:35.270881Z",
     "start_time": "2020-06-19T01:01:35.153Z"
    }
   },
   "outputs": [],
   "source": [
    "total_ele_fore <- ts_ele(total_ele_samp, start_year, end_year, forecast_years)"
   ]
  },
  {
   "cell_type": "code",
   "execution_count": 15,
   "metadata": {
    "ExecuteTime": {
     "end_time": "2020-06-19T01:01:52.498681Z",
     "start_time": "2020-06-19T01:01:52.405Z"
    }
   },
   "outputs": [
    {
     "data": {
      "text/html": [
       "<style>\n",
       ".dl-inline {width: auto; margin:0; padding: 0}\n",
       ".dl-inline>dt, .dl-inline>dd {float: none; width: auto; display: inline-block}\n",
       ".dl-inline>dt::after {content: \":\\0020\"; padding-right: .5ex}\n",
       ".dl-inline>dt:not(:first-of-type) {padding-left: .5ex}\n",
       "</style><dl class=dl-inline><dt>1</dt><dd>3464.34461538462</dd><dt>2</dt><dd>3614.73527472528</dd><dt>3</dt><dd>3765.12593406593</dd></dl>\n"
      ],
      "text/latex": [
       "\\begin{description*}\n",
       "\\item[1] 3464.34461538462\n",
       "\\item[2] 3614.73527472528\n",
       "\\item[3] 3765.12593406593\n",
       "\\end{description*}\n"
      ],
      "text/markdown": [
       "1\n",
       ":   3464.344615384622\n",
       ":   3614.735274725283\n",
       ":   3765.12593406593\n",
       "\n"
      ],
      "text/plain": [
       "       1        2        3 \n",
       "3464.345 3614.735 3765.126 "
      ]
     },
     "metadata": {},
     "output_type": "display_data"
    }
   ],
   "source": [
    "total_ele_fore"
   ]
  }
 ],
 "metadata": {
  "kernelspec": {
   "display_name": "R",
   "language": "R",
   "name": "ir"
  },
  "language_info": {
   "codemirror_mode": "r",
   "file_extension": ".r",
   "mimetype": "text/x-r-source",
   "name": "R",
   "pygments_lexer": "r",
   "version": "3.6.3"
  },
  "latex_envs": {
   "LaTeX_envs_menu_present": true,
   "autoclose": false,
   "autocomplete": true,
   "bibliofile": "biblio.bib",
   "cite_by": "apalike",
   "current_citInitial": 1,
   "eqLabelWithNumbers": true,
   "eqNumInitial": 1,
   "hotkeys": {
    "equation": "Ctrl-E",
    "itemize": "Ctrl-I"
   },
   "labels_anchors": false,
   "latex_user_defs": false,
   "report_style_numbering": false,
   "user_envs_cfg": false
  },
  "toc": {
   "base_numbering": 1,
   "nav_menu": {},
   "number_sections": true,
   "sideBar": true,
   "skip_h1_title": false,
   "title_cell": "Table of Contents",
   "title_sidebar": "Contents",
   "toc_cell": false,
   "toc_position": {},
   "toc_section_display": true,
   "toc_window_display": false
  }
 },
 "nbformat": 4,
 "nbformat_minor": 4
}
