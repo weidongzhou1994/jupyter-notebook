{
 "cells": [
  {
   "cell_type": "markdown",
   "metadata": {},
   "source": [
    "&emsp;&emsp;设置工作目录："
   ]
  },
  {
   "cell_type": "code",
   "execution_count": 1,
   "metadata": {
    "ExecuteTime": {
     "end_time": "2020-06-18T01:36:41.011885Z",
     "start_time": "2020-06-18T01:36:40.941Z"
    }
   },
   "outputs": [
    {
     "data": {
      "text/html": [
       "'C:/Users/sirzh/Desktop/R实现/00quanzhouqi/00quanzhouqi'"
      ],
      "text/latex": [
       "'C:/Users/sirzh/Desktop/R实现/00quanzhouqi/00quanzhouqi'"
      ],
      "text/markdown": [
       "'C:/Users/sirzh/Desktop/R实现/00quanzhouqi/00quanzhouqi'"
      ],
      "text/plain": [
       "[1] \"C:/Users/sirzh/Desktop/R实现/00quanzhouqi/00quanzhouqi\""
      ]
     },
     "metadata": {},
     "output_type": "display_data"
    }
   ],
   "source": [
    "setwd('C:/Users/sirzh/Desktop/R实现/00quanzhouqi/00quanzhouqi')\n",
    "\n",
    "getwd()"
   ]
  },
  {
   "cell_type": "markdown",
   "metadata": {},
   "source": [
    "&emsp;&emsp;利用名义GDP和地区生产总值指数计算实际GDP："
   ]
  },
  {
   "cell_type": "code",
   "execution_count": 2,
   "metadata": {
    "ExecuteTime": {
     "end_time": "2020-06-18T01:36:41.044716Z",
     "start_time": "2020-06-18T01:36:41.004Z"
    }
   },
   "outputs": [],
   "source": [
    "real_gdp <- function (nominal_gdp, gdp_deflator) {\n",
    "    real_gdp =  rep(1, length = length(nominal_gdp))\n",
    "    real_gdp[1] = nominal_gdp[1] \n",
    "    if (length(nominal_gdp) >= 2) {\n",
    "        for (i in 2:length(nominal_gdp)) {\n",
    "            real_gdp[i] = nominal_gdp[i-1] * gdp_deflator[i] / 100   \n",
    "        }\n",
    "    }\n",
    "    return(real_gdp) \n",
    "}"
   ]
  },
  {
   "cell_type": "markdown",
   "metadata": {
    "ExecuteTime": {
     "end_time": "2020-06-17T02:38:39.394465Z",
     "start_time": "2020-06-17T02:38:39.043Z"
    }
   },
   "source": [
    "&emsp;&emsp;利用 GDP 预测电力消费弹性"
   ]
  },
  {
   "cell_type": "code",
   "execution_count": 3,
   "metadata": {
    "ExecuteTime": {
     "end_time": "2020-06-18T01:36:41.105554Z",
     "start_time": "2020-06-18T01:36:41.072Z"
    }
   },
   "outputs": [],
   "source": [
    "data = read.csv(file = 'gdp_electricity.csv', encoding = 'gbk', header = TRUE)\n",
    "\n",
    "nominal_gdp_sample = data[, 2]\n",
    "gdp_deflator_sample = data[, 3]\n",
    "ele_sample = data[, 4]\n",
    "gdp_deflator_forecast = c(107.5, 107.5, 107.5)"
   ]
  },
  {
   "cell_type": "code",
   "execution_count": 4,
   "metadata": {
    "ExecuteTime": {
     "end_time": "2020-06-18T01:36:41.140461Z",
     "start_time": "2020-06-18T01:36:41.075Z"
    }
   },
   "outputs": [],
   "source": [
    "real_gdp_sample = real_gdp(nominal_gdp_sample, gdp_deflator_sample)  # 将名义 GDP 转化为实际 GDP"
   ]
  },
  {
   "cell_type": "code",
   "execution_count": 5,
   "metadata": {
    "ExecuteTime": {
     "end_time": "2020-06-18T01:36:41.185344Z",
     "start_time": "2020-06-18T01:36:41.081Z"
    }
   },
   "outputs": [],
   "source": [
    "model <- lm(ele_sample ~ 1 + log(real_gdp_sample))    # 拟合模型\n",
    "last_gdp = real_gdp_sample[length(real_gdp_sample)]   # 最后一个观测值"
   ]
  },
  {
   "cell_type": "markdown",
   "metadata": {
    "ExecuteTime": {
     "end_time": "2020-06-18T01:32:10.521184Z",
     "start_time": "2020-06-18T01:32:10.491Z"
    }
   },
   "source": [
    "&emsp;&emsp;根据给出的 gdp_deflator_forecast 数量设置设置预测数量："
   ]
  },
  {
   "cell_type": "code",
   "execution_count": 6,
   "metadata": {
    "ExecuteTime": {
     "end_time": "2020-06-18T01:36:41.232734Z",
     "start_time": "2020-06-18T01:36:41.137Z"
    }
   },
   "outputs": [],
   "source": [
    "ele_forecast = rep(1,length(gdp_deflator_forecast))   # 生成“虚假”的电力预测值"
   ]
  },
  {
   "cell_type": "code",
   "execution_count": 7,
   "metadata": {
    "ExecuteTime": {
     "end_time": "2020-06-18T01:36:41.290969Z",
     "start_time": "2020-06-18T01:36:41.143Z"
    }
   },
   "outputs": [],
   "source": [
    "for (i in 1:length(ele_forecast)) {\n",
    "    forecast_data = data.frame(real_gdp_sample = c(last_gdp))\n",
    "    result = predict.lm(model, newdata = forecast_data, interval = \"prediction\")\n",
    "    ele_forecast[i] = result[1]\n",
    "    last_gdp = last_gdp * gdp_deflator_forecast[i] / 100 # 将本期的预测值作为下期预测值的根据\n",
    "}\n",
    "\n",
    "results = list(ele_forecast = ele_forecast, real_gdp_sample = real_gdp_sample, first_fit = model)"
   ]
  },
  {
   "cell_type": "code",
   "execution_count": 8,
   "metadata": {
    "ExecuteTime": {
     "end_time": "2020-06-18T01:36:41.338840Z",
     "start_time": "2020-06-18T01:36:41.150Z"
    }
   },
   "outputs": [
    {
     "data": {
      "text/html": [
       "<style>\n",
       ".list-inline {list-style: none; margin:0; padding: 0}\n",
       ".list-inline>li {display: inline-block}\n",
       ".list-inline>li:not(:last-child)::after {content: \"\\00b7\"; padding: 0 .5ex}\n",
       "</style>\n",
       "<ol class=list-inline><li>3126.05032174242</li><li>3208.36803122141</li><li>3290.68574070039</li></ol>\n"
      ],
      "text/latex": [
       "\\begin{enumerate*}\n",
       "\\item 3126.05032174242\n",
       "\\item 3208.36803122141\n",
       "\\item 3290.68574070039\n",
       "\\end{enumerate*}\n"
      ],
      "text/markdown": [
       "1. 3126.05032174242\n",
       "2. 3208.36803122141\n",
       "3. 3290.68574070039\n",
       "\n",
       "\n"
      ],
      "text/plain": [
       "[1] 3126.050 3208.368 3290.686"
      ]
     },
     "metadata": {},
     "output_type": "display_data"
    }
   ],
   "source": [
    "results$ele_forecast"
   ]
  }
 ],
 "metadata": {
  "kernelspec": {
   "display_name": "R",
   "language": "R",
   "name": "ir"
  },
  "language_info": {
   "codemirror_mode": "r",
   "file_extension": ".r",
   "mimetype": "text/x-r-source",
   "name": "R",
   "pygments_lexer": "r",
   "version": "3.6.3"
  },
  "latex_envs": {
   "LaTeX_envs_menu_present": true,
   "autoclose": false,
   "autocomplete": true,
   "bibliofile": "biblio.bib",
   "cite_by": "apalike",
   "current_citInitial": 1,
   "eqLabelWithNumbers": true,
   "eqNumInitial": 1,
   "hotkeys": {
    "equation": "Ctrl-E",
    "itemize": "Ctrl-I"
   },
   "labels_anchors": false,
   "latex_user_defs": false,
   "report_style_numbering": false,
   "user_envs_cfg": false
  },
  "toc": {
   "base_numbering": 1,
   "nav_menu": {},
   "number_sections": true,
   "sideBar": true,
   "skip_h1_title": false,
   "title_cell": "Table of Contents",
   "title_sidebar": "Contents",
   "toc_cell": false,
   "toc_position": {},
   "toc_section_display": true,
   "toc_window_display": false
  }
 },
 "nbformat": 4,
 "nbformat_minor": 4
}
